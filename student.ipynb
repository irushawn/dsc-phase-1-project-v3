{
 "cells": [
  {
   "cell_type": "markdown",
   "metadata": {},
   "source": [
    "## Final Project Submission\n",
    "\n",
    "Please fill out:\n",
    "* Student name: Shawn J Irungu\n",
    "* Student pace: Hybrid\n",
    "* Scheduled project review date/time: \n",
    "* Instructor name: Samuel Karu\n",
    "* Blog post URL:\n"
   ]
  },
  {
   "cell_type": "markdown",
   "metadata": {},
   "source": [
    "### PROJECT INTRODUCTION\n",
    "The aviation industry is one of the most capital-intensive and highly regulated sectors, requiring strategic planning and data-driven decision-making. Airlines, charter companies, and new aviation startups face significant challenges when selecting aircraft for purchase or lease. These challenges include assessing safety records, operational risks, maintenance costs, and long-term profitability.\n",
    "\n",
    "\n",
    "Many companies make investment decisions without fully understanding the historical performance and accident trends of different aircraft models, leading to financial losses, increased safety risks, and inefficient operations. This project aims to develop a data-driven aviation consulting framework that provides expert guidance to aviation companies before purchasing aircraft. By analyzing historical aviation data, accident trends, and operational metrics, the consulting service will help clients make informed aircraft acquisition decisions, minimizing risks and optimizing costs."
   ]
  },
  {
   "cell_type": "markdown",
   "metadata": {},
   "source": [
    "### BUSINESS PROBLEM\n",
    "The company is seeking to expand its portfolio by entering the aviation industry, with a focus on purchasing and operating aircraft for both commercial and private use. A key challenge is identifying aircraft models that present the lowest operational and safety risks. To make strategic and data-driven investment decisions, the company requires a comprehensive analysis of historical aviation data, accident trends, and maintenance records. This will ensure optimal aircraft selection, minimizing risks while maximizing efficiency and profitability in this new market segment."
   ]
  },
  {
   "cell_type": "markdown",
   "metadata": {},
   "source": [
    "### MAIN OBJECTIVE\n",
    "* To identify the safest and most reliable aircraft models for commercial and private operations, enabling the company to make data-driven investment decisions while minimizing operational risks and maximizing profitability.\n",
    "\n",
    "### SPECIFIC OBJECTIVE\n",
    "* Which aircraft models have the lowest accident rates? \n",
    "* What are the most common causes of aviation accidents?\n",
    "* How does the number of engines affect accident frequency and severity?\n",
    "* What is the relationship between aircraft category and accident rates?\n"
   ]
  },
  {
   "cell_type": "markdown",
   "metadata": {},
   "source": [
    "### Libraries Importation"
   ]
  },
  {
   "cell_type": "code",
   "execution_count": 1,
   "metadata": {},
   "outputs": [],
   "source": [
    "# Import Libraries\n",
    "import pandas as pd\n",
    "import matplotlib.pyplot as plt\n",
    "%matplotlib inline\n",
    "import numpy as np\n",
    "import seaborn as sns\n",
    "import datetime"
   ]
  },
  {
   "cell_type": "markdown",
   "metadata": {},
   "source": [
    "### Loading our Data Set - Aviation Dataset"
   ]
  },
  {
   "cell_type": "code",
   "execution_count": 2,
   "metadata": {},
   "outputs": [
    {
     "data": {
      "text/html": [
       "<div>\n",
       "<style scoped>\n",
       "    .dataframe tbody tr th:only-of-type {\n",
       "        vertical-align: middle;\n",
       "    }\n",
       "\n",
       "    .dataframe tbody tr th {\n",
       "        vertical-align: top;\n",
       "    }\n",
       "\n",
       "    .dataframe thead th {\n",
       "        text-align: right;\n",
       "    }\n",
       "</style>\n",
       "<table border=\"1\" class=\"dataframe\">\n",
       "  <thead>\n",
       "    <tr style=\"text-align: right;\">\n",
       "      <th></th>\n",
       "      <th>Event.Id</th>\n",
       "      <th>Investigation.Type</th>\n",
       "      <th>Accident.Number</th>\n",
       "      <th>Event.Date</th>\n",
       "      <th>Location</th>\n",
       "      <th>Country</th>\n",
       "      <th>Latitude</th>\n",
       "      <th>Longitude</th>\n",
       "      <th>Airport.Code</th>\n",
       "      <th>Airport.Name</th>\n",
       "      <th>...</th>\n",
       "      <th>Purpose.of.flight</th>\n",
       "      <th>Air.carrier</th>\n",
       "      <th>Total.Fatal.Injuries</th>\n",
       "      <th>Total.Serious.Injuries</th>\n",
       "      <th>Total.Minor.Injuries</th>\n",
       "      <th>Total.Uninjured</th>\n",
       "      <th>Weather.Condition</th>\n",
       "      <th>Broad.phase.of.flight</th>\n",
       "      <th>Report.Status</th>\n",
       "      <th>Publication.Date</th>\n",
       "    </tr>\n",
       "  </thead>\n",
       "  <tbody>\n",
       "    <tr>\n",
       "      <th>0</th>\n",
       "      <td>20001218X45444</td>\n",
       "      <td>Accident</td>\n",
       "      <td>SEA87LA080</td>\n",
       "      <td>10/24/1948</td>\n",
       "      <td>MOOSE CREEK, ID</td>\n",
       "      <td>United States</td>\n",
       "      <td>NaN</td>\n",
       "      <td>NaN</td>\n",
       "      <td>NaN</td>\n",
       "      <td>NaN</td>\n",
       "      <td>...</td>\n",
       "      <td>Personal</td>\n",
       "      <td>NaN</td>\n",
       "      <td>2.0</td>\n",
       "      <td>0.0</td>\n",
       "      <td>0.0</td>\n",
       "      <td>0.0</td>\n",
       "      <td>UNK</td>\n",
       "      <td>Cruise</td>\n",
       "      <td>Probable Cause</td>\n",
       "      <td>NaN</td>\n",
       "    </tr>\n",
       "    <tr>\n",
       "      <th>1</th>\n",
       "      <td>20001218X45447</td>\n",
       "      <td>Accident</td>\n",
       "      <td>LAX94LA336</td>\n",
       "      <td>7/19/1962</td>\n",
       "      <td>BRIDGEPORT, CA</td>\n",
       "      <td>United States</td>\n",
       "      <td>NaN</td>\n",
       "      <td>NaN</td>\n",
       "      <td>NaN</td>\n",
       "      <td>NaN</td>\n",
       "      <td>...</td>\n",
       "      <td>Personal</td>\n",
       "      <td>NaN</td>\n",
       "      <td>4.0</td>\n",
       "      <td>0.0</td>\n",
       "      <td>0.0</td>\n",
       "      <td>0.0</td>\n",
       "      <td>UNK</td>\n",
       "      <td>Unknown</td>\n",
       "      <td>Probable Cause</td>\n",
       "      <td>19-09-1996</td>\n",
       "    </tr>\n",
       "    <tr>\n",
       "      <th>2</th>\n",
       "      <td>20061025X01555</td>\n",
       "      <td>Accident</td>\n",
       "      <td>NYC07LA005</td>\n",
       "      <td>8/30/1974</td>\n",
       "      <td>Saltville, VA</td>\n",
       "      <td>United States</td>\n",
       "      <td>36.922223</td>\n",
       "      <td>-81.878056</td>\n",
       "      <td>NaN</td>\n",
       "      <td>NaN</td>\n",
       "      <td>...</td>\n",
       "      <td>Personal</td>\n",
       "      <td>NaN</td>\n",
       "      <td>3.0</td>\n",
       "      <td>NaN</td>\n",
       "      <td>NaN</td>\n",
       "      <td>NaN</td>\n",
       "      <td>IMC</td>\n",
       "      <td>Cruise</td>\n",
       "      <td>Probable Cause</td>\n",
       "      <td>26-02-2007</td>\n",
       "    </tr>\n",
       "    <tr>\n",
       "      <th>3</th>\n",
       "      <td>20001218X45448</td>\n",
       "      <td>Accident</td>\n",
       "      <td>LAX96LA321</td>\n",
       "      <td>6/19/1977</td>\n",
       "      <td>EUREKA, CA</td>\n",
       "      <td>United States</td>\n",
       "      <td>NaN</td>\n",
       "      <td>NaN</td>\n",
       "      <td>NaN</td>\n",
       "      <td>NaN</td>\n",
       "      <td>...</td>\n",
       "      <td>Personal</td>\n",
       "      <td>NaN</td>\n",
       "      <td>2.0</td>\n",
       "      <td>0.0</td>\n",
       "      <td>0.0</td>\n",
       "      <td>0.0</td>\n",
       "      <td>IMC</td>\n",
       "      <td>Cruise</td>\n",
       "      <td>Probable Cause</td>\n",
       "      <td>12/9/2000</td>\n",
       "    </tr>\n",
       "    <tr>\n",
       "      <th>4</th>\n",
       "      <td>20041105X01764</td>\n",
       "      <td>Accident</td>\n",
       "      <td>CHI79FA064</td>\n",
       "      <td>8/2/1979</td>\n",
       "      <td>Canton, OH</td>\n",
       "      <td>United States</td>\n",
       "      <td>NaN</td>\n",
       "      <td>NaN</td>\n",
       "      <td>NaN</td>\n",
       "      <td>NaN</td>\n",
       "      <td>...</td>\n",
       "      <td>Personal</td>\n",
       "      <td>NaN</td>\n",
       "      <td>1.0</td>\n",
       "      <td>2.0</td>\n",
       "      <td>NaN</td>\n",
       "      <td>0.0</td>\n",
       "      <td>VMC</td>\n",
       "      <td>Approach</td>\n",
       "      <td>Probable Cause</td>\n",
       "      <td>16-04-1980</td>\n",
       "    </tr>\n",
       "  </tbody>\n",
       "</table>\n",
       "<p>5 rows × 31 columns</p>\n",
       "</div>"
      ],
      "text/plain": [
       "         Event.Id Investigation.Type Accident.Number  Event.Date  \\\n",
       "0  20001218X45444           Accident      SEA87LA080  10/24/1948   \n",
       "1  20001218X45447           Accident      LAX94LA336   7/19/1962   \n",
       "2  20061025X01555           Accident      NYC07LA005   8/30/1974   \n",
       "3  20001218X45448           Accident      LAX96LA321   6/19/1977   \n",
       "4  20041105X01764           Accident      CHI79FA064    8/2/1979   \n",
       "\n",
       "          Location        Country   Latitude   Longitude Airport.Code  \\\n",
       "0  MOOSE CREEK, ID  United States        NaN         NaN          NaN   \n",
       "1   BRIDGEPORT, CA  United States        NaN         NaN          NaN   \n",
       "2    Saltville, VA  United States  36.922223  -81.878056          NaN   \n",
       "3       EUREKA, CA  United States        NaN         NaN          NaN   \n",
       "4       Canton, OH  United States        NaN         NaN          NaN   \n",
       "\n",
       "  Airport.Name  ... Purpose.of.flight Air.carrier Total.Fatal.Injuries  \\\n",
       "0          NaN  ...          Personal         NaN                  2.0   \n",
       "1          NaN  ...          Personal         NaN                  4.0   \n",
       "2          NaN  ...          Personal         NaN                  3.0   \n",
       "3          NaN  ...          Personal         NaN                  2.0   \n",
       "4          NaN  ...          Personal         NaN                  1.0   \n",
       "\n",
       "  Total.Serious.Injuries Total.Minor.Injuries Total.Uninjured  \\\n",
       "0                    0.0                  0.0             0.0   \n",
       "1                    0.0                  0.0             0.0   \n",
       "2                    NaN                  NaN             NaN   \n",
       "3                    0.0                  0.0             0.0   \n",
       "4                    2.0                  NaN             0.0   \n",
       "\n",
       "  Weather.Condition  Broad.phase.of.flight   Report.Status Publication.Date  \n",
       "0               UNK                 Cruise  Probable Cause              NaN  \n",
       "1               UNK                Unknown  Probable Cause       19-09-1996  \n",
       "2               IMC                 Cruise  Probable Cause       26-02-2007  \n",
       "3               IMC                 Cruise  Probable Cause        12/9/2000  \n",
       "4               VMC               Approach  Probable Cause       16-04-1980  \n",
       "\n",
       "[5 rows x 31 columns]"
      ]
     },
     "execution_count": 2,
     "metadata": {},
     "output_type": "execute_result"
    }
   ],
   "source": [
    "df = pd.read_csv('./data/AviationData.csv', encoding='ISO-8859-1', low_memory=False)\n",
    "df.head()"
   ]
  },
  {
   "cell_type": "markdown",
   "metadata": {},
   "source": [
    "### Data Wrangling Process"
   ]
  },
  {
   "cell_type": "code",
   "execution_count": 3,
   "metadata": {},
   "outputs": [
    {
     "data": {
      "text/plain": [
       "False    88889\n",
       "dtype: int64"
      ]
     },
     "execution_count": 3,
     "metadata": {},
     "output_type": "execute_result"
    }
   ],
   "source": [
    "# check for duplicates\n",
    "df.duplicated().value_counts()\n",
    "\n",
    "# this returns a true of 1390 . meaning we have 1390 duplicated rows"
   ]
  },
  {
   "cell_type": "code",
   "execution_count": 4,
   "metadata": {},
   "outputs": [
    {
     "data": {
      "text/plain": [
       "(88889, 31)"
      ]
     },
     "execution_count": 4,
     "metadata": {},
     "output_type": "execute_result"
    }
   ],
   "source": [
    "# check for shape\n",
    "df.shape\n",
    "\n",
    "# this shows that our df has 90348 rows(including the dupliacted) and 31 columns"
   ]
  },
  {
   "cell_type": "code",
   "execution_count": 5,
   "metadata": {},
   "outputs": [
    {
     "name": "stdout",
     "output_type": "stream",
     "text": [
      "<class 'pandas.core.frame.DataFrame'>\n",
      "RangeIndex: 88889 entries, 0 to 88888\n",
      "Data columns (total 31 columns):\n",
      " #   Column                  Non-Null Count  Dtype  \n",
      "---  ------                  --------------  -----  \n",
      " 0   Event.Id                88889 non-null  object \n",
      " 1   Investigation.Type      88889 non-null  object \n",
      " 2   Accident.Number         88889 non-null  object \n",
      " 3   Event.Date              88889 non-null  object \n",
      " 4   Location                88837 non-null  object \n",
      " 5   Country                 88663 non-null  object \n",
      " 6   Latitude                34382 non-null  object \n",
      " 7   Longitude               34373 non-null  object \n",
      " 8   Airport.Code            50249 non-null  object \n",
      " 9   Airport.Name            52790 non-null  object \n",
      " 10  Injury.Severity         87889 non-null  object \n",
      " 11  Aircraft.damage         85695 non-null  object \n",
      " 12  Aircraft.Category       32287 non-null  object \n",
      " 13  Registration.Number     87572 non-null  object \n",
      " 14  Make                    88826 non-null  object \n",
      " 15  Model                   88797 non-null  object \n",
      " 16  Amateur.Built           88787 non-null  object \n",
      " 17  Number.of.Engines       82805 non-null  float64\n",
      " 18  Engine.Type             81812 non-null  object \n",
      " 19  FAR.Description         32023 non-null  object \n",
      " 20  Schedule                12582 non-null  object \n",
      " 21  Purpose.of.flight       82697 non-null  object \n",
      " 22  Air.carrier             16648 non-null  object \n",
      " 23  Total.Fatal.Injuries    77488 non-null  float64\n",
      " 24  Total.Serious.Injuries  76379 non-null  float64\n",
      " 25  Total.Minor.Injuries    76956 non-null  float64\n",
      " 26  Total.Uninjured         82977 non-null  float64\n",
      " 27  Weather.Condition       84397 non-null  object \n",
      " 28  Broad.phase.of.flight   61724 non-null  object \n",
      " 29  Report.Status           82508 non-null  object \n",
      " 30  Publication.Date        75118 non-null  object \n",
      "dtypes: float64(5), object(26)\n",
      "memory usage: 21.0+ MB\n"
     ]
    }
   ],
   "source": [
    "# check information\n",
    "df.info()\n",
    "\n",
    "# this shows the data types and also columns that don`t count to 90348 \n",
    "# indicates that they contain missing values\n",
    "# also shows that we need to change dtypes of some columns "
   ]
  },
  {
   "cell_type": "code",
   "execution_count": 6,
   "metadata": {},
   "outputs": [
    {
     "data": {
      "text/plain": [
       "Index(['Event.Id', 'Investigation.Type', 'Accident.Number', 'Event.Date',\n",
       "       'Location', 'Country', 'Latitude', 'Longitude', 'Airport.Code',\n",
       "       'Airport.Name', 'Injury.Severity', 'Aircraft.damage',\n",
       "       'Aircraft.Category', 'Registration.Number', 'Make', 'Model',\n",
       "       'Amateur.Built', 'Number.of.Engines', 'Engine.Type', 'FAR.Description',\n",
       "       'Schedule', 'Purpose.of.flight', 'Air.carrier', 'Total.Fatal.Injuries',\n",
       "       'Total.Serious.Injuries', 'Total.Minor.Injuries', 'Total.Uninjured',\n",
       "       'Weather.Condition', 'Broad.phase.of.flight', 'Report.Status',\n",
       "       'Publication.Date'],\n",
       "      dtype='object')"
      ]
     },
     "execution_count": 6,
     "metadata": {},
     "output_type": "execute_result"
    }
   ],
   "source": [
    "# print the column names\n",
    "df.columns"
   ]
  },
  {
   "cell_type": "code",
   "execution_count": 7,
   "metadata": {},
   "outputs": [
    {
     "data": {
      "text/html": [
       "<div>\n",
       "<style scoped>\n",
       "    .dataframe tbody tr th:only-of-type {\n",
       "        vertical-align: middle;\n",
       "    }\n",
       "\n",
       "    .dataframe tbody tr th {\n",
       "        vertical-align: top;\n",
       "    }\n",
       "\n",
       "    .dataframe thead th {\n",
       "        text-align: right;\n",
       "    }\n",
       "</style>\n",
       "<table border=\"1\" class=\"dataframe\">\n",
       "  <thead>\n",
       "    <tr style=\"text-align: right;\">\n",
       "      <th></th>\n",
       "      <th>Number.of.Engines</th>\n",
       "      <th>Total.Fatal.Injuries</th>\n",
       "      <th>Total.Serious.Injuries</th>\n",
       "      <th>Total.Minor.Injuries</th>\n",
       "      <th>Total.Uninjured</th>\n",
       "    </tr>\n",
       "  </thead>\n",
       "  <tbody>\n",
       "    <tr>\n",
       "      <th>count</th>\n",
       "      <td>82805.000000</td>\n",
       "      <td>77488.000000</td>\n",
       "      <td>76379.000000</td>\n",
       "      <td>76956.000000</td>\n",
       "      <td>82977.000000</td>\n",
       "    </tr>\n",
       "    <tr>\n",
       "      <th>mean</th>\n",
       "      <td>1.146585</td>\n",
       "      <td>0.647855</td>\n",
       "      <td>0.279881</td>\n",
       "      <td>0.357061</td>\n",
       "      <td>5.325440</td>\n",
       "    </tr>\n",
       "    <tr>\n",
       "      <th>std</th>\n",
       "      <td>0.446510</td>\n",
       "      <td>5.485960</td>\n",
       "      <td>1.544084</td>\n",
       "      <td>2.235625</td>\n",
       "      <td>27.913634</td>\n",
       "    </tr>\n",
       "    <tr>\n",
       "      <th>min</th>\n",
       "      <td>0.000000</td>\n",
       "      <td>0.000000</td>\n",
       "      <td>0.000000</td>\n",
       "      <td>0.000000</td>\n",
       "      <td>0.000000</td>\n",
       "    </tr>\n",
       "    <tr>\n",
       "      <th>25%</th>\n",
       "      <td>1.000000</td>\n",
       "      <td>0.000000</td>\n",
       "      <td>0.000000</td>\n",
       "      <td>0.000000</td>\n",
       "      <td>0.000000</td>\n",
       "    </tr>\n",
       "    <tr>\n",
       "      <th>50%</th>\n",
       "      <td>1.000000</td>\n",
       "      <td>0.000000</td>\n",
       "      <td>0.000000</td>\n",
       "      <td>0.000000</td>\n",
       "      <td>1.000000</td>\n",
       "    </tr>\n",
       "    <tr>\n",
       "      <th>75%</th>\n",
       "      <td>1.000000</td>\n",
       "      <td>0.000000</td>\n",
       "      <td>0.000000</td>\n",
       "      <td>0.000000</td>\n",
       "      <td>2.000000</td>\n",
       "    </tr>\n",
       "    <tr>\n",
       "      <th>max</th>\n",
       "      <td>8.000000</td>\n",
       "      <td>349.000000</td>\n",
       "      <td>161.000000</td>\n",
       "      <td>380.000000</td>\n",
       "      <td>699.000000</td>\n",
       "    </tr>\n",
       "  </tbody>\n",
       "</table>\n",
       "</div>"
      ],
      "text/plain": [
       "       Number.of.Engines  Total.Fatal.Injuries  Total.Serious.Injuries  \\\n",
       "count       82805.000000          77488.000000            76379.000000   \n",
       "mean            1.146585              0.647855                0.279881   \n",
       "std             0.446510              5.485960                1.544084   \n",
       "min             0.000000              0.000000                0.000000   \n",
       "25%             1.000000              0.000000                0.000000   \n",
       "50%             1.000000              0.000000                0.000000   \n",
       "75%             1.000000              0.000000                0.000000   \n",
       "max             8.000000            349.000000              161.000000   \n",
       "\n",
       "       Total.Minor.Injuries  Total.Uninjured  \n",
       "count          76956.000000     82977.000000  \n",
       "mean               0.357061         5.325440  \n",
       "std                2.235625        27.913634  \n",
       "min                0.000000         0.000000  \n",
       "25%                0.000000         0.000000  \n",
       "50%                0.000000         1.000000  \n",
       "75%                0.000000         2.000000  \n",
       "max              380.000000       699.000000  "
      ]
     },
     "execution_count": 7,
     "metadata": {},
     "output_type": "execute_result"
    }
   ],
   "source": [
    "# show the summary statistics \n",
    "df.describe()"
   ]
  },
  {
   "cell_type": "markdown",
   "metadata": {},
   "source": [
    "### Data Cleaning"
   ]
  },
  {
   "cell_type": "code",
   "execution_count": 8,
   "metadata": {},
   "outputs": [],
   "source": [
    "# drop duplicated rows\n",
    "df.drop_duplicates(inplace=True)"
   ]
  },
  {
   "cell_type": "code",
   "execution_count": 9,
   "metadata": {},
   "outputs": [
    {
     "data": {
      "text/plain": [
       "(88889, 31)"
      ]
     },
     "execution_count": 9,
     "metadata": {},
     "output_type": "execute_result"
    }
   ],
   "source": [
    "df.shape"
   ]
  },
  {
   "cell_type": "code",
   "execution_count": 10,
   "metadata": {},
   "outputs": [
    {
     "name": "stdout",
     "output_type": "stream",
     "text": [
      "<class 'pandas.core.frame.DataFrame'>\n",
      "Int64Index: 88889 entries, 0 to 88888\n",
      "Data columns (total 31 columns):\n",
      " #   Column                  Non-Null Count  Dtype  \n",
      "---  ------                  --------------  -----  \n",
      " 0   Event.Id                88889 non-null  object \n",
      " 1   Investigation.Type      88889 non-null  object \n",
      " 2   Accident.Number         88889 non-null  object \n",
      " 3   Event.Date              88889 non-null  object \n",
      " 4   Location                88837 non-null  object \n",
      " 5   Country                 88663 non-null  object \n",
      " 6   Latitude                34382 non-null  object \n",
      " 7   Longitude               34373 non-null  object \n",
      " 8   Airport.Code            50249 non-null  object \n",
      " 9   Airport.Name            52790 non-null  object \n",
      " 10  Injury.Severity         87889 non-null  object \n",
      " 11  Aircraft.damage         85695 non-null  object \n",
      " 12  Aircraft.Category       32287 non-null  object \n",
      " 13  Registration.Number     87572 non-null  object \n",
      " 14  Make                    88826 non-null  object \n",
      " 15  Model                   88797 non-null  object \n",
      " 16  Amateur.Built           88787 non-null  object \n",
      " 17  Number.of.Engines       82805 non-null  float64\n",
      " 18  Engine.Type             81812 non-null  object \n",
      " 19  FAR.Description         32023 non-null  object \n",
      " 20  Schedule                12582 non-null  object \n",
      " 21  Purpose.of.flight       82697 non-null  object \n",
      " 22  Air.carrier             16648 non-null  object \n",
      " 23  Total.Fatal.Injuries    77488 non-null  float64\n",
      " 24  Total.Serious.Injuries  76379 non-null  float64\n",
      " 25  Total.Minor.Injuries    76956 non-null  float64\n",
      " 26  Total.Uninjured         82977 non-null  float64\n",
      " 27  Weather.Condition       84397 non-null  object \n",
      " 28  Broad.phase.of.flight   61724 non-null  object \n",
      " 29  Report.Status           82508 non-null  object \n",
      " 30  Publication.Date        75118 non-null  object \n",
      "dtypes: float64(5), object(26)\n",
      "memory usage: 21.7+ MB\n"
     ]
    }
   ],
   "source": [
    "df.info()"
   ]
  },
  {
   "cell_type": "markdown",
   "metadata": {},
   "source": [
    "### This to Note\n",
    "1.We note that in our data the data type for Event.Date is an object instead of date.\n",
    "\n",
    "2.There are several missing values in some columns"
   ]
  },
  {
   "cell_type": "code",
   "execution_count": 11,
   "metadata": {},
   "outputs": [
    {
     "name": "stdout",
     "output_type": "stream",
     "text": [
      "['Event.Id', 'Make', 'Aircraft.Category', 'Total.Fatal.Injuries', 'Broad.phase.of.flight', 'Accident.Number', 'FAR.Description', 'Model', 'Number.of.Engines']\n"
     ]
    },
    {
     "data": {
      "text/plain": [
       "list"
      ]
     },
     "execution_count": 11,
     "metadata": {},
     "output_type": "execute_result"
    }
   ],
   "source": [
    "# DROPING COLUMNS\n",
    "# dropping of unnecessary columns for our analysis\n",
    "# first create a list of the columns we are interested in\n",
    " \n",
    "c = ['Event.Id', 'Make', 'Model', 'Accident.Number', 'Total.Fatal.Injuries','FAR.Description', \n",
    " 'Broad.phase.of.flight', 'Number.of.Engines', 'Accident.Number', 'Total.Fatal.Injuries',\n",
    "  'Aircraft.Category', 'Accident.Number', 'Total.Fatal.Injuries'] \n",
    "c=set(c)\n",
    "columns_to_keep=list(c)\n",
    "print(columns_to_keep)\n",
    "type(columns_to_keep)"
   ]
  },
  {
   "cell_type": "code",
   "execution_count": 12,
   "metadata": {},
   "outputs": [
    {
     "data": {
      "text/html": [
       "<div>\n",
       "<style scoped>\n",
       "    .dataframe tbody tr th:only-of-type {\n",
       "        vertical-align: middle;\n",
       "    }\n",
       "\n",
       "    .dataframe tbody tr th {\n",
       "        vertical-align: top;\n",
       "    }\n",
       "\n",
       "    .dataframe thead th {\n",
       "        text-align: right;\n",
       "    }\n",
       "</style>\n",
       "<table border=\"1\" class=\"dataframe\">\n",
       "  <thead>\n",
       "    <tr style=\"text-align: right;\">\n",
       "      <th></th>\n",
       "      <th>Make</th>\n",
       "      <th>Aircraft.Category</th>\n",
       "      <th>Total.Fatal.Injuries</th>\n",
       "      <th>Broad.phase.of.flight</th>\n",
       "      <th>Accident.Number</th>\n",
       "      <th>FAR.Description</th>\n",
       "      <th>Model</th>\n",
       "      <th>Number.of.Engines</th>\n",
       "    </tr>\n",
       "    <tr>\n",
       "      <th>Event.Id</th>\n",
       "      <th></th>\n",
       "      <th></th>\n",
       "      <th></th>\n",
       "      <th></th>\n",
       "      <th></th>\n",
       "      <th></th>\n",
       "      <th></th>\n",
       "      <th></th>\n",
       "    </tr>\n",
       "  </thead>\n",
       "  <tbody>\n",
       "    <tr>\n",
       "      <th>20001218X45444</th>\n",
       "      <td>Stinson</td>\n",
       "      <td>NaN</td>\n",
       "      <td>2.0</td>\n",
       "      <td>Cruise</td>\n",
       "      <td>SEA87LA080</td>\n",
       "      <td>NaN</td>\n",
       "      <td>108-3</td>\n",
       "      <td>1.0</td>\n",
       "    </tr>\n",
       "    <tr>\n",
       "      <th>20001218X45447</th>\n",
       "      <td>Piper</td>\n",
       "      <td>NaN</td>\n",
       "      <td>4.0</td>\n",
       "      <td>Unknown</td>\n",
       "      <td>LAX94LA336</td>\n",
       "      <td>NaN</td>\n",
       "      <td>PA-24-180</td>\n",
       "      <td>1.0</td>\n",
       "    </tr>\n",
       "    <tr>\n",
       "      <th>20061025X01555</th>\n",
       "      <td>Cessna</td>\n",
       "      <td>NaN</td>\n",
       "      <td>3.0</td>\n",
       "      <td>Cruise</td>\n",
       "      <td>NYC07LA005</td>\n",
       "      <td>NaN</td>\n",
       "      <td>172M</td>\n",
       "      <td>1.0</td>\n",
       "    </tr>\n",
       "    <tr>\n",
       "      <th>20001218X45448</th>\n",
       "      <td>Rockwell</td>\n",
       "      <td>NaN</td>\n",
       "      <td>2.0</td>\n",
       "      <td>Cruise</td>\n",
       "      <td>LAX96LA321</td>\n",
       "      <td>NaN</td>\n",
       "      <td>112</td>\n",
       "      <td>1.0</td>\n",
       "    </tr>\n",
       "    <tr>\n",
       "      <th>20041105X01764</th>\n",
       "      <td>Cessna</td>\n",
       "      <td>NaN</td>\n",
       "      <td>1.0</td>\n",
       "      <td>Approach</td>\n",
       "      <td>CHI79FA064</td>\n",
       "      <td>NaN</td>\n",
       "      <td>501</td>\n",
       "      <td>NaN</td>\n",
       "    </tr>\n",
       "    <tr>\n",
       "      <th>...</th>\n",
       "      <td>...</td>\n",
       "      <td>...</td>\n",
       "      <td>...</td>\n",
       "      <td>...</td>\n",
       "      <td>...</td>\n",
       "      <td>...</td>\n",
       "      <td>...</td>\n",
       "      <td>...</td>\n",
       "    </tr>\n",
       "    <tr>\n",
       "      <th>2.02212E+13</th>\n",
       "      <td>PIPER</td>\n",
       "      <td>NaN</td>\n",
       "      <td>0.0</td>\n",
       "      <td>NaN</td>\n",
       "      <td>ERA23LA093</td>\n",
       "      <td>91</td>\n",
       "      <td>PA-28-151</td>\n",
       "      <td>NaN</td>\n",
       "    </tr>\n",
       "    <tr>\n",
       "      <th>2.02212E+13</th>\n",
       "      <td>BELLANCA</td>\n",
       "      <td>NaN</td>\n",
       "      <td>0.0</td>\n",
       "      <td>NaN</td>\n",
       "      <td>ERA23LA095</td>\n",
       "      <td>NaN</td>\n",
       "      <td>7ECA</td>\n",
       "      <td>NaN</td>\n",
       "    </tr>\n",
       "    <tr>\n",
       "      <th>2.02212E+13</th>\n",
       "      <td>AMERICAN CHAMPION AIRCRAFT</td>\n",
       "      <td>Airplane</td>\n",
       "      <td>0.0</td>\n",
       "      <td>NaN</td>\n",
       "      <td>WPR23LA075</td>\n",
       "      <td>91</td>\n",
       "      <td>8GCBC</td>\n",
       "      <td>1.0</td>\n",
       "    </tr>\n",
       "    <tr>\n",
       "      <th>2.02212E+13</th>\n",
       "      <td>CESSNA</td>\n",
       "      <td>NaN</td>\n",
       "      <td>0.0</td>\n",
       "      <td>NaN</td>\n",
       "      <td>WPR23LA076</td>\n",
       "      <td>91</td>\n",
       "      <td>210N</td>\n",
       "      <td>NaN</td>\n",
       "    </tr>\n",
       "    <tr>\n",
       "      <th>2.02212E+13</th>\n",
       "      <td>PIPER</td>\n",
       "      <td>NaN</td>\n",
       "      <td>0.0</td>\n",
       "      <td>NaN</td>\n",
       "      <td>ERA23LA097</td>\n",
       "      <td>91</td>\n",
       "      <td>PA-24-260</td>\n",
       "      <td>NaN</td>\n",
       "    </tr>\n",
       "  </tbody>\n",
       "</table>\n",
       "<p>88889 rows × 8 columns</p>\n",
       "</div>"
      ],
      "text/plain": [
       "                                      Make Aircraft.Category  \\\n",
       "Event.Id                                                       \n",
       "20001218X45444                     Stinson               NaN   \n",
       "20001218X45447                       Piper               NaN   \n",
       "20061025X01555                      Cessna               NaN   \n",
       "20001218X45448                    Rockwell               NaN   \n",
       "20041105X01764                      Cessna               NaN   \n",
       "...                                    ...               ...   \n",
       "2.02212E+13                          PIPER               NaN   \n",
       "2.02212E+13                       BELLANCA               NaN   \n",
       "2.02212E+13     AMERICAN CHAMPION AIRCRAFT          Airplane   \n",
       "2.02212E+13                         CESSNA               NaN   \n",
       "2.02212E+13                          PIPER               NaN   \n",
       "\n",
       "                Total.Fatal.Injuries Broad.phase.of.flight Accident.Number  \\\n",
       "Event.Id                                                                     \n",
       "20001218X45444                   2.0                Cruise      SEA87LA080   \n",
       "20001218X45447                   4.0               Unknown      LAX94LA336   \n",
       "20061025X01555                   3.0                Cruise      NYC07LA005   \n",
       "20001218X45448                   2.0                Cruise      LAX96LA321   \n",
       "20041105X01764                   1.0              Approach      CHI79FA064   \n",
       "...                              ...                   ...             ...   \n",
       "2.02212E+13                      0.0                   NaN      ERA23LA093   \n",
       "2.02212E+13                      0.0                   NaN      ERA23LA095   \n",
       "2.02212E+13                      0.0                   NaN      WPR23LA075   \n",
       "2.02212E+13                      0.0                   NaN      WPR23LA076   \n",
       "2.02212E+13                      0.0                   NaN      ERA23LA097   \n",
       "\n",
       "               FAR.Description      Model  Number.of.Engines  \n",
       "Event.Id                                                      \n",
       "20001218X45444             NaN      108-3                1.0  \n",
       "20001218X45447             NaN  PA-24-180                1.0  \n",
       "20061025X01555             NaN       172M                1.0  \n",
       "20001218X45448             NaN        112                1.0  \n",
       "20041105X01764             NaN        501                NaN  \n",
       "...                        ...        ...                ...  \n",
       "2.02212E+13                 91  PA-28-151                NaN  \n",
       "2.02212E+13                NaN       7ECA                NaN  \n",
       "2.02212E+13                 91      8GCBC                1.0  \n",
       "2.02212E+13                 91       210N                NaN  \n",
       "2.02212E+13                 91  PA-24-260                NaN  \n",
       "\n",
       "[88889 rows x 8 columns]"
      ]
     },
     "execution_count": 12,
     "metadata": {},
     "output_type": "execute_result"
    }
   ],
   "source": [
    "# pass the list to the dataframe \n",
    "df=df[columns_to_keep]\n",
    "df.set_index(('Event.Id'))"
   ]
  },
  {
   "cell_type": "code",
   "execution_count": 13,
   "metadata": {},
   "outputs": [],
   "source": [
    "# using list comprehension\n",
    "# this is an alternative way to drop columns\n",
    "# df = df.drop(columns=[col for col in df.columns if col not in columns_to_keep])"
   ]
  },
  {
   "cell_type": "code",
   "execution_count": 14,
   "metadata": {},
   "outputs": [
    {
     "data": {
      "text/plain": [
       "(88889, 9)"
      ]
     },
     "execution_count": 14,
     "metadata": {},
     "output_type": "execute_result"
    }
   ],
   "source": [
    "df.shape"
   ]
  },
  {
   "cell_type": "code",
   "execution_count": 15,
   "metadata": {},
   "outputs": [
    {
     "data": {
      "text/plain": [
       "Event.Id                     0\n",
       "Make                        63\n",
       "Aircraft.Category        56602\n",
       "Total.Fatal.Injuries     11401\n",
       "Broad.phase.of.flight    27165\n",
       "Accident.Number              0\n",
       "FAR.Description          56866\n",
       "Model                       92\n",
       "Number.of.Engines         6084\n",
       "dtype: int64"
      ]
     },
     "execution_count": 15,
     "metadata": {},
     "output_type": "execute_result"
    }
   ],
   "source": [
    "# Look number of missing values per column.\n",
    "df.isna().sum()"
   ]
  },
  {
   "cell_type": "markdown",
   "metadata": {},
   "source": [
    "### Checking for Data Completness"
   ]
  },
  {
   "cell_type": "code",
   "execution_count": 16,
   "metadata": {},
   "outputs": [
    {
     "name": "stdout",
     "output_type": "stream",
     "text": [
      "Event.Id 84468\n",
      "Make 8237\n",
      "Aircraft.Category 15\n",
      "Broad.phase.of.flight 12\n",
      "Accident.Number 88863\n",
      "FAR.Description 31\n",
      "Model 12315\n"
     ]
    }
   ],
   "source": [
    "categorical_columns = df.select_dtypes(include=['object']).columns\n",
    "\n",
    "for column in categorical_columns:\n",
    "    print(column , df[column].nunique())"
   ]
  },
  {
   "cell_type": "markdown",
   "metadata": {},
   "source": [
    "This tells that Event Id has duplicated Values since unique counts=87951 while our df rows = 88889"
   ]
  },
  {
   "cell_type": "code",
   "execution_count": 17,
   "metadata": {},
   "outputs": [
    {
     "data": {
      "text/plain": [
       "4421"
      ]
     },
     "execution_count": 17,
     "metadata": {},
     "output_type": "execute_result"
    }
   ],
   "source": [
    "# Check for duplicates in the column Event ID\n",
    "df.duplicated(subset='Event.Id').sum()\n"
   ]
  },
  {
   "cell_type": "code",
   "execution_count": 18,
   "metadata": {},
   "outputs": [],
   "source": [
    "#Drop the Duplicates\n",
    "df.drop_duplicates(subset='Event.Id',inplace=True)"
   ]
  },
  {
   "cell_type": "code",
   "execution_count": 19,
   "metadata": {},
   "outputs": [
    {
     "data": {
      "text/plain": [
       "0"
      ]
     },
     "execution_count": 19,
     "metadata": {},
     "output_type": "execute_result"
    }
   ],
   "source": [
    "# Recheck Again\n",
    "df.duplicated(subset='Event.Id').sum()"
   ]
  },
  {
   "cell_type": "markdown",
   "metadata": {},
   "source": [
    "### Dealing with Misiing Values"
   ]
  },
  {
   "cell_type": "code",
   "execution_count": 20,
   "metadata": {},
   "outputs": [
    {
     "name": "stdout",
     "output_type": "stream",
     "text": [
      "<class 'pandas.core.frame.DataFrame'>\n",
      "Int64Index: 84468 entries, 0 to 88377\n",
      "Data columns (total 9 columns):\n",
      " #   Column                 Non-Null Count  Dtype  \n",
      "---  ------                 --------------  -----  \n",
      " 0   Event.Id               84468 non-null  object \n",
      " 1   Make                   84405 non-null  object \n",
      " 2   Aircraft.Category      28884 non-null  object \n",
      " 3   Total.Fatal.Injuries   73201 non-null  float64\n",
      " 4   Broad.phase.of.flight  60837 non-null  object \n",
      " 5   Accident.Number        84468 non-null  object \n",
      " 6   FAR.Description        28516 non-null  object \n",
      " 7   Model                  84376 non-null  object \n",
      " 8   Number.of.Engines      79193 non-null  float64\n",
      "dtypes: float64(2), object(7)\n",
      "memory usage: 6.4+ MB\n"
     ]
    }
   ],
   "source": [
    "df.info()"
   ]
  },
  {
   "cell_type": "code",
   "execution_count": 21,
   "metadata": {},
   "outputs": [],
   "source": [
    "# Standardize and Filling Mising Values\n",
    "df['Make'] = df['Make'].str.strip().str.title().fillna('unknown')\n",
    "df['Model'] = df['Model'].str.strip().str.title().fillna('unknown')"
   ]
  },
  {
   "cell_type": "code",
   "execution_count": 22,
   "metadata": {},
   "outputs": [],
   "source": [
    "# Dealing with missing Values\n",
    "df.fillna({'Aircraft.Category': 'Unknown'}, inplace=True)\n",
    "df.fillna({'Total.Fatal.Injuries': df['Total.Fatal.Injuries'].mean() }, inplace=True)\n",
    "df.fillna({'Number.of.Engines': df['Number.of.Engines'].median() }, inplace=True)\n",
    "df.fillna({'Broad.phase.of.flight': 'Unknown'},inplace = True)\n",
    "df.fillna({'FAR.Description': 'Unknown' }, inplace=True)\n"
   ]
  },
  {
   "cell_type": "markdown",
   "metadata": {},
   "source": [
    "The FAR Description appears to 2 differentvalues that appear to mean one cause of accidents, which has some prefixes that are meaningless. So Lets rename them to Appropriate description to make it easier for us to understand."
   ]
  },
  {
   "cell_type": "code",
   "execution_count": 23,
   "metadata": {},
   "outputs": [],
   "source": [
    "df['FAR.Description'].replace({\n",
    "    \"Part 91: General Aviation\": \"General Aviation\",\n",
    "    \"91\": \"General Aviation\",\n",
    "    \"Part 135: Air Taxi & Commuter\": \"Air Taxi & Commuter\",\n",
    "    \"Part 135\": \"Air Taxi & Commuter\",\n",
    "    \"135\": \"Air Taxi & Commuter\",\n",
    "    \"Part 125: 20+ Pax,6000+ lbs\": \"20+ Pax,6000+ lbs\",\n",
    "    \"Part 125\": \"20+ Pax,6000+ lbs\",\n",
    "    \"125\": \"20+ Pax,6000+ lbs\",\n",
    "    \"103\": \"20+ Pax,6000+ lbs\",\n",
    "    \"107\": \"20+ Pax,6000+ lbs\",\n",
    "    \"129\": \"Foreign\",\n",
    "    \"Part 129: Foreign\": \"Foreign\",\n",
    "    \"Part 129\": \"Foreign\",\n",
    "    \"Part 133: Rotorcraft Ext. Load\": \"Rotorcraft Ext. Load\",\n",
    "    \"Part 133\": \"Rotorcraft Ext. Load\",\n",
    "    \"133\": \"Rotorcraft Ext. Load\",\n",
    "    \"Part 121: Air Carrier\": \"Air Carrier\",\n",
    "    \"Part 121\": \"Air Carrier\",\n",
    "    \"121\": \"Air Carrier\",\n",
    "    \"Part 137: Agricultural\": \"Agricultural\",\n",
    "    \"137\": \"Agricultural\",\n",
    "    \"Part 137\": \"Agricultural\",\n",
    "    \"Part 91 Subpart K: Fractional\": \"Subpart K: Fractional\",\n",
    "    \"Part 91F: Special Flt Ops.\": \"Special Flt Ops\",\n",
    "    \"091K\": \"Special Flt Ops\",\n",
    "    \"437\": \"Special Flt Ops\",\n",
    "    \"UNK\": \"Unknown\",\n",
    "    \"Non-U.S., Commercial\": \"Commercial\",\n",
    "    \"Non-U.S., Non-Commercial\": \"Non-Commercial\",\n",
    "}, inplace=True)"
   ]
  },
  {
   "cell_type": "code",
   "execution_count": 24,
   "metadata": {},
   "outputs": [
    {
     "name": "stdout",
     "output_type": "stream",
     "text": [
      "Missing Values After Handling:\n",
      " Event.Id                 0\n",
      "Make                     0\n",
      "Aircraft.Category        0\n",
      "Total.Fatal.Injuries     0\n",
      "Broad.phase.of.flight    0\n",
      "Accident.Number          0\n",
      "FAR.Description          0\n",
      "Model                    0\n",
      "Number.of.Engines        0\n",
      "dtype: int64\n"
     ]
    }
   ],
   "source": [
    "# Verify no missing values remain\n",
    "print(\"Missing Values After Handling:\\n\", df.isnull().sum())"
   ]
  },
  {
   "cell_type": "markdown",
   "metadata": {},
   "source": [
    "Check for Extraneous Value"
   ]
  },
  {
   "cell_type": "code",
   "execution_count": 25,
   "metadata": {},
   "outputs": [
    {
     "name": "stdout",
     "output_type": "stream",
     "text": [
      "Event.Id \n",
      " 20001214X40455    1\n",
      "20001211X11262    1\n",
      "20010709X01334    1\n",
      "20001214X45185    1\n",
      "20010110X00180    1\n",
      "                 ..\n",
      "20001207X03690    1\n",
      "20001213X28265    1\n",
      "20110310X71508    1\n",
      "20001208X07876    1\n",
      "20090419X21819    1\n",
      "Name: Event.Id, Length: 84468, dtype: int64 \n",
      "\n",
      "Make \n",
      " Cessna           25987\n",
      "Piper            14254\n",
      "Beech             5165\n",
      "Bell              2606\n",
      "Boeing            2461\n",
      "                 ...  \n",
      "Performer            1\n",
      "Scott Taylor         1\n",
      "Conner Leroy         1\n",
      "David W Oakes        1\n",
      "Ferkin               1\n",
      "Name: Make, Length: 7188, dtype: int64 \n",
      "\n",
      "Aircraft.Category \n",
      " Unknown              55596\n",
      "Airplane             24713\n",
      "Helicopter            3062\n",
      "Glider                 457\n",
      "Balloon                209\n",
      "Gyrocraft              154\n",
      "Weight-Shift           150\n",
      "Powered Parachute       87\n",
      "Ultralight              30\n",
      "Powered-Lift             5\n",
      "Blimp                    4\n",
      "Rocket                   1\n",
      "Name: Aircraft.Category, dtype: int64 \n",
      "\n",
      "Total.Fatal.Injuries \n",
      " 0.000000      56337\n",
      "0.645169      11267\n",
      "1.000000       8426\n",
      "2.000000       4898\n",
      "3.000000       1510\n",
      "              ...  \n",
      "295.000000        1\n",
      "37.000000         1\n",
      "144.000000        1\n",
      "112.000000        1\n",
      "349.000000        1\n",
      "Name: Total.Fatal.Injuries, Length: 126, dtype: int64 \n",
      "\n",
      "Broad.phase.of.flight \n",
      " Unknown        24178\n",
      "Landing        15320\n",
      "Takeoff        12404\n",
      "Cruise         10141\n",
      "Maneuvering     8052\n",
      "Approach        6389\n",
      "Climb           1995\n",
      "Descent         1870\n",
      "Taxi            1786\n",
      "Go-around       1345\n",
      "Standing         872\n",
      "Other            116\n",
      "Name: Broad.phase.of.flight, dtype: int64 \n",
      "\n",
      "Accident.Number \n",
      " SEA84LA039    1\n",
      "IAD99LA042    1\n",
      "ERA13CA047    1\n",
      "FTW87LA195    1\n",
      "ERA14FA073    1\n",
      "             ..\n",
      "CEN09CA402    1\n",
      "CEN14CA386    1\n",
      "LAX05LA151    1\n",
      "MKC86LA061    1\n",
      "NYC99LA134    1\n",
      "Name: Accident.Number, Length: 84468, dtype: int64 \n",
      "\n",
      "FAR.Description \n",
      " Unknown                 56273\n",
      "General Aviation        22282\n",
      "Agricultural             1330\n",
      "NUSN                     1182\n",
      "Air Taxi & Commuter       939\n",
      "NUSC                      833\n",
      "Air Carrier               758\n",
      "Foreign                   279\n",
      "PUBU                      225\n",
      "Rotorcraft Ext. Load      123\n",
      "Non-Commercial             96\n",
      "Commercial                 91\n",
      "Public Use                 19\n",
      "20+ Pax,6000+ lbs          14\n",
      "Special Flt Ops            14\n",
      "ARMF                        7\n",
      "Public Aircraft             2\n",
      "Armed Forces                1\n",
      "Name: FAR.Description, dtype: int64 \n",
      "\n",
      "Model \n",
      " 152              2283\n",
      "172              1627\n",
      "172N             1121\n",
      "Pa-28-140         893\n",
      "150               792\n",
      "                 ... \n",
      "C131                1\n",
      "Sky Arrow 600       1\n",
      "Sky Hopper Ii       1\n",
      "Na 265-80           1\n",
      "Rf-5B               1\n",
      "Name: Model, Length: 11282, dtype: int64 \n",
      "\n",
      "Number.of.Engines \n",
      " 1.0    71893\n",
      "2.0    10565\n",
      "0.0     1153\n",
      "3.0      446\n",
      "4.0      408\n",
      "8.0        3\n",
      "Name: Number.of.Engines, dtype: int64 \n",
      "\n"
     ]
    }
   ],
   "source": [
    "for col in df.columns:\n",
    "    print(col, '\\n', df[col].value_counts(), '\\n')"
   ]
  },
  {
   "cell_type": "markdown",
   "metadata": {},
   "source": [
    "\n",
    "By checking the extraneous value we see that there are 1210 planes with 0 number of engines.\n",
    "This is IMPOSIIBLE. We need to replace this with mean"
   ]
  },
  {
   "cell_type": "code",
   "execution_count": 26,
   "metadata": {},
   "outputs": [],
   "source": [
    "df['Number.of.Engines']=df['Number.of.Engines'].replace(0,df['Number.of.Engines'].mean())"
   ]
  },
  {
   "cell_type": "code",
   "execution_count": 27,
   "metadata": {},
   "outputs": [
    {
     "name": "stdout",
     "output_type": "stream",
     "text": [
      "Event.Id \n",
      " 20001214X40455    1\n",
      "20001211X11262    1\n",
      "20010709X01334    1\n",
      "20001214X45185    1\n",
      "20010110X00180    1\n",
      "                 ..\n",
      "20001207X03690    1\n",
      "20001213X28265    1\n",
      "20110310X71508    1\n",
      "20001208X07876    1\n",
      "20090419X21819    1\n",
      "Name: Event.Id, Length: 84468, dtype: int64 \n",
      "\n",
      "Make \n",
      " Cessna           25987\n",
      "Piper            14254\n",
      "Beech             5165\n",
      "Bell              2606\n",
      "Boeing            2461\n",
      "                 ...  \n",
      "Performer            1\n",
      "Scott Taylor         1\n",
      "Conner Leroy         1\n",
      "David W Oakes        1\n",
      "Ferkin               1\n",
      "Name: Make, Length: 7188, dtype: int64 \n",
      "\n",
      "Aircraft.Category \n",
      " Unknown              55596\n",
      "Airplane             24713\n",
      "Helicopter            3062\n",
      "Glider                 457\n",
      "Balloon                209\n",
      "Gyrocraft              154\n",
      "Weight-Shift           150\n",
      "Powered Parachute       87\n",
      "Ultralight              30\n",
      "Powered-Lift             5\n",
      "Blimp                    4\n",
      "Rocket                   1\n",
      "Name: Aircraft.Category, dtype: int64 \n",
      "\n",
      "Total.Fatal.Injuries \n",
      " 0.000000      56337\n",
      "0.645169      11267\n",
      "1.000000       8426\n",
      "2.000000       4898\n",
      "3.000000       1510\n",
      "              ...  \n",
      "295.000000        1\n",
      "37.000000         1\n",
      "144.000000        1\n",
      "112.000000        1\n",
      "349.000000        1\n",
      "Name: Total.Fatal.Injuries, Length: 126, dtype: int64 \n",
      "\n",
      "Broad.phase.of.flight \n",
      " Unknown        24178\n",
      "Landing        15320\n",
      "Takeoff        12404\n",
      "Cruise         10141\n",
      "Maneuvering     8052\n",
      "Approach        6389\n",
      "Climb           1995\n",
      "Descent         1870\n",
      "Taxi            1786\n",
      "Go-around       1345\n",
      "Standing         872\n",
      "Other            116\n",
      "Name: Broad.phase.of.flight, dtype: int64 \n",
      "\n",
      "Accident.Number \n",
      " SEA84LA039    1\n",
      "IAD99LA042    1\n",
      "ERA13CA047    1\n",
      "FTW87LA195    1\n",
      "ERA14FA073    1\n",
      "             ..\n",
      "CEN09CA402    1\n",
      "CEN14CA386    1\n",
      "LAX05LA151    1\n",
      "MKC86LA061    1\n",
      "NYC99LA134    1\n",
      "Name: Accident.Number, Length: 84468, dtype: int64 \n",
      "\n",
      "FAR.Description \n",
      " Unknown                 56273\n",
      "General Aviation        22282\n",
      "Agricultural             1330\n",
      "NUSN                     1182\n",
      "Air Taxi & Commuter       939\n",
      "NUSC                      833\n",
      "Air Carrier               758\n",
      "Foreign                   279\n",
      "PUBU                      225\n",
      "Rotorcraft Ext. Load      123\n",
      "Non-Commercial             96\n",
      "Commercial                 91\n",
      "Public Use                 19\n",
      "20+ Pax,6000+ lbs          14\n",
      "Special Flt Ops            14\n",
      "ARMF                        7\n",
      "Public Aircraft             2\n",
      "Armed Forces                1\n",
      "Name: FAR.Description, dtype: int64 \n",
      "\n",
      "Model \n",
      " 152              2283\n",
      "172              1627\n",
      "172N             1121\n",
      "Pa-28-140         893\n",
      "150               792\n",
      "                 ... \n",
      "C131                1\n",
      "Sky Arrow 600       1\n",
      "Sky Hopper Ii       1\n",
      "Na 265-80           1\n",
      "Rf-5B               1\n",
      "Name: Model, Length: 11282, dtype: int64 \n",
      "\n",
      "Number.of.Engines \n",
      " 1.000000    71893\n",
      "2.000000    10565\n",
      "1.136726     1153\n",
      "3.000000      446\n",
      "4.000000      408\n",
      "8.000000        3\n",
      "Name: Number.of.Engines, dtype: int64 \n",
      "\n"
     ]
    }
   ],
   "source": [
    "#check for extraneous value again and you will see now our colum is clean with no zero engines\n",
    "for col in df.columns:\n",
    "    print(col, '\\n', df[col].value_counts(), '\\n')"
   ]
  },
  {
   "cell_type": "markdown",
   "metadata": {},
   "source": [
    "### Data Type Conversion"
   ]
  },
  {
   "cell_type": "code",
   "execution_count": 28,
   "metadata": {},
   "outputs": [
    {
     "name": "stdout",
     "output_type": "stream",
     "text": [
      "<class 'pandas.core.frame.DataFrame'>\n",
      "Int64Index: 84468 entries, 0 to 88377\n",
      "Data columns (total 9 columns):\n",
      " #   Column                 Non-Null Count  Dtype  \n",
      "---  ------                 --------------  -----  \n",
      " 0   Event.Id               84468 non-null  object \n",
      " 1   Make                   84468 non-null  object \n",
      " 2   Aircraft.Category      84468 non-null  object \n",
      " 3   Total.Fatal.Injuries   84468 non-null  float64\n",
      " 4   Broad.phase.of.flight  84468 non-null  object \n",
      " 5   Accident.Number        84468 non-null  object \n",
      " 6   FAR.Description        84468 non-null  object \n",
      " 7   Model                  84468 non-null  object \n",
      " 8   Number.of.Engines      84468 non-null  float64\n",
      "dtypes: float64(2), object(7)\n",
      "memory usage: 6.4+ MB\n"
     ]
    }
   ],
   "source": [
    "df.info()"
   ]
  },
  {
   "cell_type": "code",
   "execution_count": 29,
   "metadata": {},
   "outputs": [],
   "source": [
    "# Convert categorical columns to category dtype\n",
    "categorical_columns = ['Make', 'Aircraft.Category', 'Broad.phase.of.flight', 'Model', \n",
    "                       'Accident.Number', 'Event.Id', 'FAR.Description']\n",
    "for column in categorical_columns:\n",
    "    df[column] = df[column].astype('category').str.strip().str.title()\n",
    "\n",
    "# Convert Number.of.Engines to integer \n",
    "df['Number.of.Engines'] = df['Number.of.Engines'].astype(int)\n",
    "\n",
    "# Convert Total Fatal Injuries to integer \n",
    "df['Total.Fatal.Injuries'] = df['Total.Fatal.Injuries'].astype(int)"
   ]
  },
  {
   "cell_type": "code",
   "execution_count": 30,
   "metadata": {},
   "outputs": [
    {
     "name": "stdout",
     "output_type": "stream",
     "text": [
      "<class 'pandas.core.frame.DataFrame'>\n",
      "Int64Index: 84468 entries, 0 to 88377\n",
      "Data columns (total 9 columns):\n",
      " #   Column                 Non-Null Count  Dtype \n",
      "---  ------                 --------------  ----- \n",
      " 0   Event.Id               84468 non-null  object\n",
      " 1   Make                   84468 non-null  object\n",
      " 2   Aircraft.Category      84468 non-null  object\n",
      " 3   Total.Fatal.Injuries   84468 non-null  int32 \n",
      " 4   Broad.phase.of.flight  84468 non-null  object\n",
      " 5   Accident.Number        84468 non-null  object\n",
      " 6   FAR.Description        84468 non-null  object\n",
      " 7   Model                  84468 non-null  object\n",
      " 8   Number.of.Engines      84468 non-null  int32 \n",
      "dtypes: int32(2), object(7)\n",
      "memory usage: 5.8+ MB\n"
     ]
    }
   ],
   "source": [
    "# Run to confirm dtype have been chaged to Category dtype\n",
    "df.info()"
   ]
  },
  {
   "cell_type": "code",
   "execution_count": 31,
   "metadata": {},
   "outputs": [
    {
     "name": "stdout",
     "output_type": "stream",
     "text": [
      "Numerical Data Description:\n",
      "        Total.Fatal.Injuries  Number.of.Engines\n",
      "count          84468.000000       84468.000000\n",
      "mean               0.559111           1.150376\n",
      "std                5.029975           0.410851\n",
      "min                0.000000           1.000000\n",
      "25%                0.000000           1.000000\n",
      "50%                0.000000           1.000000\n",
      "75%                0.000000           1.000000\n",
      "max              349.000000           8.000000\n"
     ]
    }
   ],
   "source": [
    "# Statistics Summary of Numerical Columns\n",
    "numerical_columns = ['Total.Fatal.Injuries', 'Number.of.Engines']\n",
    "print(\"Numerical Data Description:\\n\", df[numerical_columns].describe())"
   ]
  },
  {
   "cell_type": "code",
   "execution_count": 32,
   "metadata": {},
   "outputs": [
    {
     "name": "stdout",
     "output_type": "stream",
     "text": [
      "Duplicate Rows:\n",
      " 0\n"
     ]
    }
   ],
   "source": [
    "# VERIFY NO DUPLICATES\n",
    "duplicate_rows = df.duplicated().sum()\n",
    "print(\"Duplicate Rows:\\n\", duplicate_rows)"
   ]
  },
  {
   "cell_type": "markdown",
   "metadata": {},
   "source": [
    "Export Cleaned CSV"
   ]
  },
  {
   "cell_type": "code",
   "execution_count": 33,
   "metadata": {},
   "outputs": [],
   "source": [
    "AvCleaned = df.to_csv('./data/AVCleaned.csv')"
   ]
  },
  {
   "cell_type": "markdown",
   "metadata": {},
   "source": [
    "### EDA"
   ]
  },
  {
   "cell_type": "markdown",
   "metadata": {},
   "source": [
    "Distribution of Aircraft Model"
   ]
  },
  {
   "cell_type": "code",
   "execution_count": 34,
   "metadata": {},
   "outputs": [
    {
     "data": {
      "text/plain": [
       "152                     2283\n",
       "172                     1627\n",
       "172N                    1121\n",
       "Pa-28-140                893\n",
       "150                      792\n",
       "                        ... \n",
       "Xl-Rg Velocity             1\n",
       "Kelly-D                    1\n",
       "Bk117A-3                   1\n",
       "Lancair Iv P Propjet       1\n",
       "Whitehead #21              1\n",
       "Name: Model, Length: 11281, dtype: int64"
      ]
     },
     "execution_count": 34,
     "metadata": {},
     "output_type": "execute_result"
    }
   ],
   "source": [
    "df['Model'].value_counts().iloc[0:]"
   ]
  },
  {
   "cell_type": "code",
   "execution_count": 35,
   "metadata": {},
   "outputs": [
    {
     "data": {
      "image/png": "[encoded data removed]",
      "text/plain": [
       "<Figure size 864x432 with 1 Axes>"
      ]
     },
     "metadata": {
      "needs_background": "light"
     },
     "output_type": "display_data"
    }
   ],
   "source": [
    "# Plot distribution of aircraft model\n",
    "# Count occurrences of each aircraft model\n",
    "model_counts = df['Model'].value_counts().tail(30)  # Top 15 models with most accidents\n",
    "\n",
    "# Plot the distribution\n",
    "plt.figure(figsize=(12, 6))\n",
    "model_counts.plot(kind='bar', color='skyblue')\n",
    "\n",
    "# Customize the plot\n",
    "plt.title(\"Distribution of Aircraft Models Involved in accident\", fontsize=14)\n",
    "plt.xlabel(\"Aircraft Model\", fontsize=12)\n",
    "plt.ylabel(\"Frequency\", fontsize=12)\n",
    "plt.xticks(rotation=45, ha='right')  # Rotate labels for readability\n",
    "plt.grid(axis='y', linestyle='--', alpha=0.7)\n",
    "\n",
    "# Show the plot\n",
    "plt.show()"
   ]
  },
  {
   "cell_type": "markdown",
   "metadata": {},
   "source": [
    "### Obj 1\n",
    "\n",
    "Which aircraft models have the lowest accident rates?"
   ]
  },
  {
   "cell_type": "markdown",
   "metadata": {},
   "source": [
    "This Distribution Indicates that the Model with low Frequency has low Accident Rates: THis are : \n",
    "        \n"
   ]
  },
  {
   "cell_type": "code",
   "execution_count": 36,
   "metadata": {},
   "outputs": [
    {
     "data": {
      "text/plain": [
       "['Ask 21',\n",
       " 'Lockheed',\n",
       " 'Navion 4',\n",
       " '12-M',\n",
       " 'Youngster',\n",
       " 'Pa 18S-150',\n",
       " 'P-3A',\n",
       " 'Pa-18-100',\n",
       " '727-134',\n",
       " 'Ratsrepus 300']"
      ]
     },
     "execution_count": 36,
     "metadata": {},
     "output_type": "execute_result"
    }
   ],
   "source": [
    "models_with_one_occurrence = model_counts[model_counts == 1].index.tolist()\n",
    "models_with_one_occurrence[:10]"
   ]
  },
  {
   "cell_type": "code",
   "execution_count": 37,
   "metadata": {},
   "outputs": [
    {
     "data": {
      "text/plain": [
       "Cessna               25987\n",
       "Piper                14254\n",
       "Beech                 5165\n",
       "Bell                  2606\n",
       "Boeing                2461\n",
       "                     ...  \n",
       "Scott Taylor             1\n",
       "Conner Leroy             1\n",
       "David W Oakes            1\n",
       "Jordan Valley Llc        1\n",
       "Ferkin                   1\n",
       "Name: Make, Length: 7187, dtype: int64"
      ]
     },
     "execution_count": 37,
     "metadata": {},
     "output_type": "execute_result"
    }
   ],
   "source": [
    "df['Make'].value_counts()"
   ]
  },
  {
   "cell_type": "code",
   "execution_count": 38,
   "metadata": {},
   "outputs": [
    {
     "data": {
      "text/plain": [
       "Cessna               25987\n",
       "Piper                14254\n",
       "Beech                 5165\n",
       "Bell                  2606\n",
       "Boeing                2461\n",
       "                     ...  \n",
       "Scott Taylor             1\n",
       "Conner Leroy             1\n",
       "David W Oakes            1\n",
       "Jordan Valley Llc        1\n",
       "Ferkin                   1\n",
       "Name: Make, Length: 7187, dtype: int64"
      ]
     },
     "execution_count": 38,
     "metadata": {},
     "output_type": "execute_result"
    }
   ],
   "source": [
    "df['Make'].value_counts()"
   ]
  },
  {
   "cell_type": "code",
   "execution_count": 39,
   "metadata": {},
   "outputs": [
    {
     "data": {
      "image/png": "[encoded data removed]",
      "text/plain": [
       "<Figure size 864x432 with 1 Axes>"
      ]
     },
     "metadata": {
      "needs_background": "light"
     },
     "output_type": "display_data"
    }
   ],
   "source": [
    "# Plot distribution of aircraft make\n",
    "# Count occurrences of each aircraft make\n",
    "make_all_count = df['Make'].value_counts()\n",
    "make_counts = df['Make'].value_counts().head(15)  # Top 15 make with most accidents\n",
    "\n",
    "# Plot the distribution\n",
    "plt.figure(figsize=(12, 6))\n",
    "make_counts.plot(kind='bar', color='skyblue')\n",
    "\n",
    "# Customize the plot\n",
    "plt.title(\"Distribution of Make Involved in Accident\", fontsize=14)\n",
    "plt.xlabel(\"Aircraft Make\", fontsize=12)\n",
    "plt.ylabel(\"Frequency\", fontsize=12)\n",
    "plt.xticks(rotation=45, ha='right')  # Rotate labels for readability\n",
    "plt.grid(axis='y', linestyle='--', alpha=0.7)\n",
    "\n",
    "# Show the plot\n",
    "plt.show()"
   ]
  },
  {
   "cell_type": "code",
   "execution_count": 40,
   "metadata": {},
   "outputs": [
    {
     "data": {
      "text/plain": [
       "['Slaybaugh',\n",
       " 'Huddleston/Becktold',\n",
       " 'Berkey',\n",
       " 'Richard Riley',\n",
       " 'Wejebe Jose',\n",
       " 'Neumann-Everett',\n",
       " 'Brandt Leroy E',\n",
       " 'Dempsey Daniel M',\n",
       " 'Murray Richard F',\n",
       " 'Brisendine']"
      ]
     },
     "execution_count": 40,
     "metadata": {},
     "output_type": "execute_result"
    }
   ],
   "source": [
    "make_with_one_occurrence = make_all_count[make_all_count == 1].index.tolist()\n",
    "make_with_one_occurrence[:10]"
   ]
  },
  {
   "cell_type": "code",
   "execution_count": 41,
   "metadata": {},
   "outputs": [
    {
     "data": {
      "text/plain": [
       "Make                      Model            \n",
       "107.5 Flying Corporation  One Design Dr 107       1\n",
       "Maule                     M5-210Tc                1\n",
       "                          M5C                     1\n",
       "                          M6235                   1\n",
       "                          M7-235                  1\n",
       "                                               ... \n",
       "Cessna                    150                   792\n",
       "Piper                     Pa-28-140             893\n",
       "Cessna                    172N                 1120\n",
       "                          172                  1625\n",
       "                          152                  2282\n",
       "Name: Accident.Number, Length: 17538, dtype: int64"
      ]
     },
     "execution_count": 41,
     "metadata": {},
     "output_type": "execute_result"
    }
   ],
   "source": [
    "df.groupby(['Make', 'Model'])['Accident.Number'].count().sort_values()"
   ]
  },
  {
   "cell_type": "code",
   "execution_count": 42,
   "metadata": {},
   "outputs": [
    {
     "data": {
      "image/png": "[encoded data removed]",
      "text/plain": [
       "<Figure size 864x432 with 1 Axes>"
      ]
     },
     "metadata": {
      "needs_background": "light"
     },
     "output_type": "display_data"
    }
   ],
   "source": [
    "# Group by 'Make' and 'Model', then count accidents\n",
    "accident_counts = df.groupby(['Make', 'Model'])['Accident.Number'].count().reset_index()\n",
    "\n",
    "# Rename the count column for clarity\n",
    "accident_counts.rename(columns={'Accident.Number': 'Accident_Count'}, inplace=True)\n",
    "\n",
    "# Sort by accident count (highest first)\n",
    "accident_counts = accident_counts.sort_values(by='Accident_Count', ascending=False)\n",
    "\n",
    "# Select top 15 (modify as needed)\n",
    "top_accidents = accident_counts.head(15)\n",
    "\n",
    "# Create bar chart\n",
    "plt.figure(figsize=(12, 6))\n",
    "plt.barh(top_accidents['Make'] + \" - \" + top_accidents['Model'], top_accidents['Accident_Count'], color='blue')\n",
    "\n",
    "# Customize the plot\n",
    "plt.title(\"Top Aircraft Models by Accident Frequency\", fontsize=14)\n",
    "plt.xlabel(\"Number of Accidents\", fontsize=12)\n",
    "plt.ylabel(\"Aircraft Make & Model\", fontsize=12)\n",
    "plt.gca().invert_yaxis()  # Invert y-axis to show highest count at the top\n",
    "plt.grid(axis='x', linestyle='--', alpha=0.7)\n",
    "\n",
    "# Show the plot\n",
    "plt.show()"
   ]
  },
  {
   "cell_type": "markdown",
   "metadata": {},
   "source": [
    "The above analysis shows the aircrafts and models with the highest frequency of Accidents. Thi are top 15 models corresponding to their makes. It appears Cessna and Piper Make have high chances of getting accidents."
   ]
  },
  {
   "cell_type": "markdown",
   "metadata": {},
   "source": [
    "### OBJ 2"
   ]
  },
  {
   "cell_type": "markdown",
   "metadata": {},
   "source": [
    "What are the most common causes of aviation accidents?"
   ]
  },
  {
   "cell_type": "code",
   "execution_count": 43,
   "metadata": {},
   "outputs": [
    {
     "data": {
      "image/png": "[encoded data removed]",
      "text/plain": [
       "<Figure size 864x432 with 1 Axes>"
      ]
     },
     "metadata": {
      "needs_background": "light"
     },
     "output_type": "display_data"
    }
   ],
   "source": [
    "cause_counts = df['FAR.Description'].value_counts().reset_index()\n",
    "cause_counts.columns = ['Accident Cause', 'Count']\n",
    "\n",
    "# Select top 10 most common causes\n",
    "top_causes = cause_counts.head(10)\n",
    "\n",
    "# Plot bar chart\n",
    "plt.figure(figsize=(12, 6))\n",
    "plt.barh(top_causes['Accident Cause'], top_causes['Count'], color='red')\n",
    "plt.xlabel(\"Number of Accidents\", fontsize=12)\n",
    "plt.ylabel(\"Accident Cause\", fontsize=12)\n",
    "plt.title(\"Top 10 Most Common Causes of Aviation Accidents\", fontsize=14)\n",
    "plt.gca().invert_yaxis()  # Highest count at the top\n",
    "plt.grid(axis='x', linestyle='--', alpha=0.7)\n",
    "\n",
    "# Show plot\n",
    "plt.show()"
   ]
  },
  {
   "cell_type": "markdown",
   "metadata": {},
   "source": [
    "The Graph shows from the known Cause of Accidents, General aviation leads followed by Agriculture. But the Most cause appears to be unknown.\n",
    "\n",
    "Rotorcraft Ext Load appears to have few cases of accident"
   ]
  },
  {
   "cell_type": "markdown",
   "metadata": {},
   "source": [
    "### OBJ 3\n",
    "How does the number of engines affect accident frequency and severity?"
   ]
  },
  {
   "cell_type": "code",
   "execution_count": 44,
   "metadata": {},
   "outputs": [
    {
     "data": {
      "text/plain": [
       "Number.of.Engines\n",
       "1    73046\n",
       "2    10565\n",
       "3      446\n",
       "4      408\n",
       "8        3\n",
       "Name: Total.Fatal.Injuries, dtype: int64"
      ]
     },
     "execution_count": 44,
     "metadata": {},
     "output_type": "execute_result"
    }
   ],
   "source": [
    "df.groupby(['Number.of.Engines'])['Total.Fatal.Injuries'].count()"
   ]
  },
  {
   "cell_type": "code",
   "execution_count": 45,
   "metadata": {},
   "outputs": [
    {
     "data": {
      "text/plain": [
       "1    73046\n",
       "2    10565\n",
       "3      446\n",
       "4      408\n",
       "8        3\n",
       "Name: Number.of.Engines, dtype: int64"
      ]
     },
     "execution_count": 45,
     "metadata": {},
     "output_type": "execute_result"
    }
   ],
   "source": [
    "# How often do accidents occur for different engine numbers?\n",
    "# here we Count accidents per Number.of.Engines\n",
    "\n",
    "engine_accident_counts = df['Number.of.Engines'].value_counts().sort_index()\n",
    "engine_accident_counts\n"
   ]
  },
  {
   "cell_type": "code",
   "execution_count": 46,
   "metadata": {},
   "outputs": [
    {
     "data": {
      "image/png": "[encoded data removed]",
      "text/plain": [
       "<Figure size 864x360 with 1 Axes>"
      ]
     },
     "metadata": {
      "needs_background": "light"
     },
     "output_type": "display_data"
    }
   ],
   "source": [
    "plt.figure(figsize=(12, 5))\n",
    "sns.barplot(x=engine_accident_counts.index, y=engine_accident_counts.values, color=\"blue\")\n",
    "plt.xlabel(\"Number of Engines\", fontsize=12)\n",
    "plt.ylabel(\"Number of Accidents\", fontsize=12)\n",
    "plt.title(\"Accident Frequency by Number of Engines\", fontsize=14)\n",
    "plt.grid(axis=\"y\", linestyle=\"--\", alpha=0.7)\n",
    "plt.show()"
   ]
  },
  {
   "cell_type": "code",
   "execution_count": 47,
   "metadata": {},
   "outputs": [
    {
     "data": {
      "image/png": "[encoded data removed]",
      "text/plain": [
       "<Figure size 720x360 with 1 Axes>"
      ]
     },
     "metadata": {
      "needs_background": "light"
     },
     "output_type": "display_data"
    }
   ],
   "source": [
    "# Are accidents with more engines more severe?\n",
    "# We Compare injury Total.Fatal.Injuries\n",
    "# Analyze the average number of Total.Fatal.Injuries per engine type.\n",
    "\n",
    "fatalities_per_engine = df.groupby('Number.of.Engines')['Total.Fatal.Injuries'].sum().reset_index()\n",
    "fatalities_per_engine\n",
    "plt.figure(figsize=(10, 5))\n",
    "sns.barplot(x=fatalities_per_engine['Number.of.Engines'], y=fatalities_per_engine['Total.Fatal.Injuries'], color=\"red\")\n",
    "plt.xlabel(\"Number of Engines\", fontsize=12)\n",
    "plt.ylabel(\"Average Fatal Injuries\", fontsize=12)\n",
    "plt.title(\"Average Fatal Injuries by Number of Engines\", fontsize=14)\n",
    "plt.grid(axis=\"y\", linestyle=\"--\", alpha=0.7)\n",
    "plt.show()"
   ]
  },
  {
   "cell_type": "markdown",
   "metadata": {},
   "source": [
    "Here we see that :\n",
    "Single-engine planes crash more often than multi-engine planes?\n",
    "\n",
    "multi-engine plane accidents are less involved in accidents hence less Fatal Injuries.\n",
    "\n",
    "This will helps aviation companies decide to purchase aircrafts with multi engines since they reduce risk."
   ]
  },
  {
   "cell_type": "markdown",
   "metadata": {},
   "source": [
    "### OBJ 4"
   ]
  },
  {
   "cell_type": "markdown",
   "metadata": {},
   "source": [
    "What is the relationship between Number of Engines and accident rates?"
   ]
  },
  {
   "cell_type": "code",
   "execution_count": 48,
   "metadata": {},
   "outputs": [
    {
     "data": {
      "text/plain": [
       "0.05449318588777948"
      ]
     },
     "execution_count": 48,
     "metadata": {},
     "output_type": "execute_result"
    }
   ],
   "source": [
    "cov_matrix = np.corrcoef(df['Number.of.Engines'],df['Total.Fatal.Injuries'] )\n",
    "cov_matrix[0][1]"
   ]
  },
  {
   "cell_type": "code",
   "execution_count": 49,
   "metadata": {},
   "outputs": [
    {
     "data": {
      "image/png": "[encoded data removed]",
      "text/plain": [
       "<Figure size 576x432 with 2 Axes>"
      ]
     },
     "metadata": {
      "needs_background": "light"
     },
     "output_type": "display_data"
    }
   ],
   "source": [
    "# Heatmap of correlation\n",
    "plt.figure(figsize=(8, 6))\n",
    "sns.heatmap(cov_matrix, annot=True, cmap=\"coolwarm\", fmt=\".2f\", linewidths=0.5)\n",
    "plt.title(\"Cov Matrix of Injury Severity Metrics\")\n",
    "plt.show()"
   ]
  },
  {
   "cell_type": "markdown",
   "metadata": {},
   "source": [
    "The correlation coefficient is (0.05449318588777948) which indicates a week positive coreelation.  meaning there is a week positive relationship between the number of engines and the number of fatal injuries.\n",
    "\n",
    "this is because if an aircraft has multiple engines, it might still operate after one fails, this could reduce the severity of crashes, making the correlation weak. And this was seen from the above analysis that when number of engines were high - the fatal injuries were low.\n",
    "we concluded that aircrafts with multi engines experience few accidents.\n",
    "\n",
    "Other factors discussed above  might be more important in determining accident severity."
   ]
  },
  {
   "cell_type": "code",
   "execution_count": 50,
   "metadata": {},
   "outputs": [
    {
     "data": {
      "image/png": "[encoded data removed]",
      "text/plain": [
       "<Figure size 720x432 with 1 Axes>"
      ]
     },
     "metadata": {
      "needs_background": "light"
     },
     "output_type": "display_data"
    }
   ],
   "source": [
    "plt.figure(figsize=(10, 6))\n",
    "sns.scatterplot(data=df, x='Number.of.Engines', y='Total.Fatal.Injuries', alpha=0.6, color=\"red\")\n",
    "#sns.regplot(data=df, x='Number.of.Engines', y='Total.Fatal.Injuries', scatter_kws={'alpha': 0.5}, line_kws={'color': 'red'})\n",
    "plt.xlabel(\"Number of Engines\", fontsize=12)\n",
    "plt.ylabel(\"Total Fatal Injuries\", fontsize=12)\n",
    "plt.title(\"Scatter Plot: Number of Engines vs. Fatal Injuries\", fontsize=14)\n",
    "plt.xticks(rotation=45)  # Rotate category labels for better visibility\n",
    "plt.grid(axis=\"y\", linestyle=\"--\", alpha=0.7)\n",
    "\n",
    "plt.show()"
   ]
  },
  {
   "cell_type": "markdown",
   "metadata": {},
   "source": [
    "### CONCLUSION\n"
   ]
  },
  {
   "cell_type": "markdown",
   "metadata": {},
   "source": [
    "Aircraft models with lower accident counts than others, indicating they may be safer or less frequently used.\n",
    "\n",
    "Aircraft makes with the lowest accident counts  indicate better safety records\n",
    "\n",
    "Planes with Multi engine are best to purchase for our business\n"
   ]
  }
 ],
 "metadata": {
  "kernelspec": {
   "display_name": "learn-env",
   "language": "python",
   "name": "python3"
  },
  "language_info": {
   "codemirror_mode": {
    "name": "ipython",
    "version": 3
   },
   "file_extension": ".py",
   "mimetype": "text/x-python",
   "name": "python",
   "nbconvert_exporter": "python",
   "pygments_lexer": "ipython3",
   "version": "3.8.5"
  }
 },
 "nbformat": 4,
 "nbformat_minor": 2
}
